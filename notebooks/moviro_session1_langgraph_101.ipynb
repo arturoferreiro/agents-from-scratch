{
 "cells": [
  {
   "cell_type": "markdown",
   "id": "dc082433",
   "metadata": {},
   "source": [
    "# LangGraph 101\n",
    "\n",
    "[Los LLMs](https://python.langchain.com/docs/concepts/chat_models/) hacen posible integrar inteligencia en una nueva clase de aplicaciones. [LangGraph](https://langchain-ai.github.io/langgraph/) es un framework para ayudar a construir aplicaciones con LLMs. Aquí, revisaremos los conceptos básicos de LangGraph, explicaremos sus beneficios, mostraremos cómo usarlo para construir flujos de trabajo / agentes, y mostraremos cómo funciona con [LangChain](https://www.langchain.com/) / [LangSmith](https://docs.smith.langchain.com/).\n",
    "\n",
    "![ecosystem](./img/ecosystem.png)\n",
    "\n",
    "## Modelos de chat\n",
    "\n",
    "[Los modelos de chat](https://python.langchain.com/docs/concepts/chat_models/) son la base de las aplicaciones LLM. Típicamente se accede a ellos a través de una interfaz de chat que toma una lista de [mensajes](https://python.langchain.com/docs/concepts/messages/) como entrada y devuelve un [mensaje](https://python.langchain.com/docs/concepts/messages/) como salida. LangChain proporciona [una interfaz estandarizada para modelos de chat](https://python.langchain.com/api_reference/langchain/chat_models/langchain.chat_models.base.init_chat_model.html), facilitando el [acceso a muchos proveedores diferentes](https://python.langchain.com/docs/integrations/chat/)."
   ]
  },
  {
   "cell_type": "code",
   "execution_count": 1,
   "id": "cecc2b24",
   "metadata": {},
   "outputs": [
    {
     "data": {
      "text/plain": [
       "True"
      ]
     },
     "execution_count": 1,
     "metadata": {},
     "output_type": "execute_result"
    }
   ],
   "source": [
    "from dotenv import load_dotenv\n",
    "load_dotenv(\"../.env\", override=True)"
   ]
  },
  {
   "cell_type": "code",
   "execution_count": 2,
   "id": "e0ee8f6c",
   "metadata": {},
   "outputs": [],
   "source": [
    "from langchain.chat_models import init_chat_model\n",
    "llm = init_chat_model(\"openai:gpt-4.1\", temperature=0)"
   ]
  },
  {
   "cell_type": "markdown",
   "id": "50777b0b",
   "metadata": {},
   "source": [
    "## Ejecutando el modelo\n",
    "\n",
    "La interfaz `init_chat_model` proporciona métodos [estandarizados](https://python.langchain.com/docs/concepts/runnables/) para usar modelos de chat, que incluyen:\n",
    "- `invoke()`: Una sola entrada se transforma en una salida.\n",
    "- `stream()`: Las salidas se [transmiten en streaming](https://python.langchain.com/docs/concepts/streaming/#stream-and-astream) a medida que se producen."
   ]
  },
  {
   "cell_type": "code",
   "execution_count": 3,
   "id": "a28159d5",
   "metadata": {},
   "outputs": [],
   "source": [
    "result = llm.invoke(\"What is an agent?\")"
   ]
  },
  {
   "cell_type": "code",
   "execution_count": 4,
   "id": "8ca48651",
   "metadata": {},
   "outputs": [
    {
     "data": {
      "text/plain": [
       "AIMessage(content='The term **\"agent\"** can have different meanings depending on the context. Here are some common definitions:\\n\\n---\\n\\n### 1. **General Definition**\\nAn **agent** is **someone or something that acts on behalf of another** or **causes an effect**.\\n\\n---\\n\\n### 2. **In Artificial Intelligence (AI) and Computer Science**\\nAn **agent** is a **system or entity that perceives its environment through sensors and acts upon that environment through actuators** to achieve specific goals.  \\n- **Example:** A robot vacuum cleaner is an agent: it senses dirt and obstacles, and moves to clean the floor.\\n\\n---\\n\\n### 3. **In Business and Law**\\nAn **agent** is a **person authorized to act on behalf of another (the principal)** in business transactions.\\n- **Example:** A real estate agent sells houses for clients.\\n\\n---\\n\\n### 4. **In Chemistry and Biology**\\nAn **agent** is a **substance that brings about a chemical or biological effect**.\\n- **Example:** A cleaning agent removes stains; an infectious agent causes disease.\\n\\n---\\n\\n### 5. **In Literature and Entertainment**\\nAn **agent** can refer to a **representative** (like a literary agent) or a **character who acts with purpose**.\\n\\n---\\n\\n**Summary:**  \\nAn **agent** is generally **an entity that acts, makes decisions, or causes change, often on behalf of someone or something else**. The specific meaning depends on the field or context.', additional_kwargs={'refusal': None}, response_metadata={'token_usage': {'completion_tokens': 304, 'prompt_tokens': 12, 'total_tokens': 316, 'completion_tokens_details': {'accepted_prediction_tokens': 0, 'audio_tokens': 0, 'reasoning_tokens': 0, 'rejected_prediction_tokens': 0}, 'prompt_tokens_details': {'audio_tokens': 0, 'cached_tokens': 0}}, 'model_name': 'gpt-4.1-2025-04-14', 'system_fingerprint': 'fp_51e1070cf2', 'id': 'chatcmpl-BpKpEIY4wlu4EvpGyBA5oYJTn9pdw', 'service_tier': 'default', 'finish_reason': 'stop', 'logprobs': None}, id='run--da5b94f0-44a9-4bbb-b77f-b307ab161940-0', usage_metadata={'input_tokens': 12, 'output_tokens': 304, 'total_tokens': 316, 'input_token_details': {'audio': 0, 'cache_read': 0}, 'output_token_details': {'audio': 0, 'reasoning': 0}})"
      ]
     },
     "execution_count": 4,
     "metadata": {},
     "output_type": "execute_result"
    }
   ],
   "source": [
    "result"
   ]
  },
  {
   "cell_type": "code",
   "execution_count": 11,
   "id": "41137023",
   "metadata": {},
   "outputs": [
    {
     "data": {
      "text/plain": [
       "langchain_core.messages.ai.AIMessage"
      ]
     },
     "execution_count": 11,
     "metadata": {},
     "output_type": "execute_result"
    }
   ],
   "source": [
    "type(result)"
   ]
  },
  {
   "cell_type": "code",
   "execution_count": 5,
   "id": "dd45ea6f",
   "metadata": {},
   "outputs": [
    {
     "data": {
      "text/plain": [
       "AIMessage(content='La suma de 2 y 3 es 5.', additional_kwargs={'refusal': None}, response_metadata={'token_usage': {'completion_tokens': 12, 'prompt_tokens': 29, 'total_tokens': 41, 'completion_tokens_details': {'accepted_prediction_tokens': 0, 'audio_tokens': 0, 'reasoning_tokens': 0, 'rejected_prediction_tokens': 0}, 'prompt_tokens_details': {'audio_tokens': 0, 'cached_tokens': 0}}, 'model_name': 'gpt-4.1-2025-04-14', 'system_fingerprint': 'fp_51e1070cf2', 'id': 'chatcmpl-BpKs6borY7NLYHgfplFGTBDhH6Fdu', 'service_tier': 'default', 'finish_reason': 'stop', 'logprobs': None}, id='run--38e292ea-0cb3-4ab4-9486-1db6b4839c96-0', usage_metadata={'input_tokens': 29, 'output_tokens': 12, 'total_tokens': 41, 'input_token_details': {'audio': 0, 'cache_read': 0}, 'output_token_details': {'audio': 0, 'reasoning': 0}})"
      ]
     },
     "execution_count": 5,
     "metadata": {},
     "output_type": "execute_result"
    }
   ],
   "source": [
    "from langchain_core.messages import HumanMessage, AIMessage, ToolMessage, SystemMessage, AIMessageChunk\n",
    "\n",
    "# uso de varios messages para invocar un chat model\n",
    "\n",
    "system_message = SystemMessage(content=\"You are a helpful assistant that can add and multiply numbers\")\n",
    "user_message = HumanMessage(content=\"Suma 2 y 3\")\n",
    "\n",
    "llm.invoke([system_message, user_message])"
   ]
  },
  {
   "cell_type": "code",
   "execution_count": 10,
   "id": "8326b0f3",
   "metadata": {},
   "outputs": [
    {
     "name": "stdout",
     "output_type": "stream",
     "text": [
      "¡Claro! Aquí va uno:\n",
      "\n",
      "—¿Cuál es el animal más antiguo?\n",
      "—La cebra, porque está en blanco y negro. 🦓😄\n"
     ]
    }
   ],
   "source": [
    "# obteniendo mensajes en streaming de una inferencia de un chat model\n",
    "\n",
    "# iniciar una variable para sumar las respuestas de los chunks\n",
    "response_text: AIMessage\n",
    "for chunk in llm.stream([HumanMessage(content=\"Me puedes contar un chiste?\")]):\n",
    "    # hago un print de los tipos de chunks\n",
    "    # print(type(chunk))\n",
    "    # print(chunk)\n",
    "    response_text += chunk.content\n",
    "    \n",
    "print(response_text)"
   ]
  },
  {
   "cell_type": "code",
   "execution_count": 12,
   "id": "dc1d00eb",
   "metadata": {},
   "outputs": [
    {
     "data": {
      "text/html": [
       "<pre style=\"white-space:pre;overflow-x:auto;line-height:normal;font-family:Menlo,'DejaVu Sans Mono',consolas,'Courier New',monospace\">The term <span style=\"font-weight: bold\">\"agent\"</span> can have different meanings depending on the context. Here are some common definitions:           \n",
       "\n",
       "<span style=\"color: #808000; text-decoration-color: #808000\">───────────────────────────────────────────────────────────────────────────────────────────────────────────────────</span>\n",
       "                                               <span style=\"font-weight: bold\">1. General Definition</span>                                               \n",
       "\n",
       "An <span style=\"font-weight: bold\">agent</span> is <span style=\"font-weight: bold\">someone or something that acts on behalf of another</span> or <span style=\"font-weight: bold\">causes an effect</span>.                               \n",
       "\n",
       "<span style=\"color: #808000; text-decoration-color: #808000\">───────────────────────────────────────────────────────────────────────────────────────────────────────────────────</span>\n",
       "                              <span style=\"font-weight: bold\">2. In Artificial Intelligence (AI) and Computer Science</span>                              \n",
       "\n",
       "An <span style=\"font-weight: bold\">agent</span> is a <span style=\"font-weight: bold\">system or entity that perceives its environment through sensors and acts upon that environment </span>      \n",
       "<span style=\"font-weight: bold\">through actuators</span> to achieve specific goals.                                                                       \n",
       "\n",
       "<span style=\"color: #808000; text-decoration-color: #808000; font-weight: bold\"> • </span><span style=\"font-weight: bold\">Example:</span> A robot vacuum cleaner is an agent: it senses dirt and obstacles, and moves to clean the floor.        \n",
       "\n",
       "<span style=\"color: #808000; text-decoration-color: #808000\">───────────────────────────────────────────────────────────────────────────────────────────────────────────────────</span>\n",
       "                                              <span style=\"font-weight: bold\">3. In Business and Law</span>                                               \n",
       "\n",
       "An <span style=\"font-weight: bold\">agent</span> is a <span style=\"font-weight: bold\">person authorized to act on behalf of another (the principal)</span> in business transactions.              \n",
       "\n",
       "<span style=\"color: #808000; text-decoration-color: #808000; font-weight: bold\"> • </span><span style=\"font-weight: bold\">Example:</span> A real estate agent sells houses for clients.                                                          \n",
       "\n",
       "<span style=\"color: #808000; text-decoration-color: #808000\">───────────────────────────────────────────────────────────────────────────────────────────────────────────────────</span>\n",
       "                                            <span style=\"font-weight: bold\">4. In Chemistry and Biology</span>                                            \n",
       "\n",
       "An <span style=\"font-weight: bold\">agent</span> is a <span style=\"font-weight: bold\">substance that brings about a chemical or biological effect</span>.                                         \n",
       "\n",
       "<span style=\"color: #808000; text-decoration-color: #808000; font-weight: bold\"> • </span><span style=\"font-weight: bold\">Example:</span> A cleaning agent removes stains; an infectious agent causes disease.                                   \n",
       "\n",
       "<span style=\"color: #808000; text-decoration-color: #808000\">───────────────────────────────────────────────────────────────────────────────────────────────────────────────────</span>\n",
       "                                        <span style=\"font-weight: bold\">5. In Literature and Entertainment</span>                                         \n",
       "\n",
       "An <span style=\"font-weight: bold\">agent</span> can refer to a <span style=\"font-weight: bold\">representative</span> (like a literary agent) or a <span style=\"font-weight: bold\">character who acts with purpose</span>.               \n",
       "\n",
       "<span style=\"color: #808000; text-decoration-color: #808000\">───────────────────────────────────────────────────────────────────────────────────────────────────────────────────</span>\n",
       "<span style=\"font-weight: bold\">Summary:</span>                                                                                                           \n",
       "An <span style=\"font-weight: bold\">agent</span> is generally <span style=\"font-weight: bold\">an entity that acts, makes decisions, or causes change, often on behalf of someone or </span>       \n",
       "<span style=\"font-weight: bold\">something else</span>. The specific meaning depends on the field or context.                                              \n",
       "</pre>\n"
      ],
      "text/plain": [
       "The term \u001b[1m\"agent\"\u001b[0m can have different meanings depending on the context. Here are some common definitions:           \n",
       "\n",
       "\u001b[33m───────────────────────────────────────────────────────────────────────────────────────────────────────────────────\u001b[0m\n",
       "                                               \u001b[1m1. \u001b[0m\u001b[1mGeneral Definition\u001b[0m                                               \n",
       "\n",
       "An \u001b[1magent\u001b[0m is \u001b[1msomeone or something that acts on behalf of another\u001b[0m or \u001b[1mcauses an effect\u001b[0m.                               \n",
       "\n",
       "\u001b[33m───────────────────────────────────────────────────────────────────────────────────────────────────────────────────\u001b[0m\n",
       "                              \u001b[1m2. \u001b[0m\u001b[1mIn Artificial Intelligence (AI) and Computer Science\u001b[0m                              \n",
       "\n",
       "An \u001b[1magent\u001b[0m is a \u001b[1msystem or entity that perceives its environment through sensors and acts upon that environment \u001b[0m      \n",
       "\u001b[1mthrough actuators\u001b[0m to achieve specific goals.                                                                       \n",
       "\n",
       "\u001b[1;33m • \u001b[0m\u001b[1mExample:\u001b[0m A robot vacuum cleaner is an agent: it senses dirt and obstacles, and moves to clean the floor.        \n",
       "\n",
       "\u001b[33m───────────────────────────────────────────────────────────────────────────────────────────────────────────────────\u001b[0m\n",
       "                                              \u001b[1m3. \u001b[0m\u001b[1mIn Business and Law\u001b[0m                                               \n",
       "\n",
       "An \u001b[1magent\u001b[0m is a \u001b[1mperson authorized to act on behalf of another (the principal)\u001b[0m in business transactions.              \n",
       "\n",
       "\u001b[1;33m • \u001b[0m\u001b[1mExample:\u001b[0m A real estate agent sells houses for clients.                                                          \n",
       "\n",
       "\u001b[33m───────────────────────────────────────────────────────────────────────────────────────────────────────────────────\u001b[0m\n",
       "                                            \u001b[1m4. \u001b[0m\u001b[1mIn Chemistry and Biology\u001b[0m                                            \n",
       "\n",
       "An \u001b[1magent\u001b[0m is a \u001b[1msubstance that brings about a chemical or biological effect\u001b[0m.                                         \n",
       "\n",
       "\u001b[1;33m • \u001b[0m\u001b[1mExample:\u001b[0m A cleaning agent removes stains; an infectious agent causes disease.                                   \n",
       "\n",
       "\u001b[33m───────────────────────────────────────────────────────────────────────────────────────────────────────────────────\u001b[0m\n",
       "                                        \u001b[1m5. \u001b[0m\u001b[1mIn Literature and Entertainment\u001b[0m                                         \n",
       "\n",
       "An \u001b[1magent\u001b[0m can refer to a \u001b[1mrepresentative\u001b[0m (like a literary agent) or a \u001b[1mcharacter who acts with purpose\u001b[0m.               \n",
       "\n",
       "\u001b[33m───────────────────────────────────────────────────────────────────────────────────────────────────────────────────\u001b[0m\n",
       "\u001b[1mSummary:\u001b[0m                                                                                                           \n",
       "An \u001b[1magent\u001b[0m is generally \u001b[1man entity that acts, makes decisions, or causes change, often on behalf of someone or \u001b[0m       \n",
       "\u001b[1msomething else\u001b[0m. The specific meaning depends on the field or context.                                              \n"
      ]
     },
     "execution_count": 12,
     "metadata": {},
     "output_type": "execute_result"
    }
   ],
   "source": [
    "from rich.markdown import Markdown\n",
    "Markdown(result.content)"
   ]
  },
  {
   "cell_type": "code",
   "execution_count": 13,
   "id": "d526d127",
   "metadata": {},
   "outputs": [
    {
     "name": "stdout",
     "output_type": "stream",
     "text": [
      "The term **\"agent\"** can have different meanings depending on the context. Here are some common definitions:\n",
      "\n",
      "---\n",
      "\n",
      "### 1. **General Definition**\n",
      "An **agent** is **someone or something that acts on behalf of another** or **causes an effect**.\n",
      "\n",
      "---\n",
      "\n",
      "### 2. **In Artificial Intelligence (AI) and Computer Science**\n",
      "An **agent** is a **system or entity that perceives its environment through sensors and acts upon that environment through actuators** to achieve specific goals.  \n",
      "- **Example:** A robot vacuum cleaner is an agent: it senses dirt and obstacles, and moves to clean the floor.\n",
      "\n",
      "---\n",
      "\n",
      "### 3. **In Business and Law**\n",
      "An **agent** is a **person authorized to act on behalf of another (the principal)** in business transactions.\n",
      "- **Example:** A real estate agent sells houses for clients.\n",
      "\n",
      "---\n",
      "\n",
      "### 4. **In Chemistry and Biology**\n",
      "An **agent** is a **substance that brings about a chemical or biological effect**.\n",
      "- **Example:** A cleaning agent removes stains; an infectious agent causes disease.\n",
      "\n",
      "---\n",
      "\n",
      "### 5. **In Literature and Entertainment**\n",
      "An **agent** can refer to a **representative** (like a literary agent) or a **character who acts with purpose**.\n",
      "\n",
      "---\n",
      "\n",
      "**Summary:**  \n",
      "An **agent** is generally **an entity that acts, makes decisions, or causes change, often on behalf of someone or something else**. The specific meaning depends on the field or context.\n"
     ]
    }
   ],
   "source": [
    "print(result.content)"
   ]
  },
  {
   "cell_type": "markdown",
   "id": "9a24d8ef",
   "metadata": {},
   "source": [
    "## Herramientas\n",
    "\n",
    "[Las herramientas](https://python.langchain.com/docs/concepts/tools/) son utilidades que pueden ser llamadas por un modelo de chat. En LangChain, crear herramientas se puede hacer usando el decorador `@tool`, que transforma funciones de Python en herramientas llamables. Automáticamente inferirá el nombre de la herramienta, descripción y argumentos esperados desde la definición de la función. También puedes usar [servidores del Protocolo de Contexto del Modelo (MCP)](https://github.com/langchain-ai/langchain-mcp-adapters) como herramientas compatibles con LangChain."
   ]
  },
  {
   "cell_type": "code",
   "execution_count": 14,
   "id": "afdff275",
   "metadata": {},
   "outputs": [],
   "source": [
    "from langchain.tools import tool\n",
    "\n",
    "@tool\n",
    "def write_email(to: str, subject: str, content: str) -> str:\n",
    "    \"\"\"Write and send an email.\"\"\"\n",
    "    # Placeholder response - in real app would send email\n",
    "    return f\"Email sent to {to} with subject '{subject}' and content: {content}\""
   ]
  },
  {
   "cell_type": "code",
   "execution_count": 15,
   "id": "c52ec55b-0b60-4b0c-95d4-ff528a64694e",
   "metadata": {},
   "outputs": [
    {
     "data": {
      "text/plain": [
       "langchain_core.tools.structured.StructuredTool"
      ]
     },
     "execution_count": 15,
     "metadata": {},
     "output_type": "execute_result"
    }
   ],
   "source": [
    "type(write_email)"
   ]
  },
  {
   "cell_type": "code",
   "execution_count": 16,
   "id": "23a40647-3d48-4760-aabe-144d627de110",
   "metadata": {},
   "outputs": [
    {
     "data": {
      "text/plain": [
       "{'to': {'title': 'To', 'type': 'string'},\n",
       " 'subject': {'title': 'Subject', 'type': 'string'},\n",
       " 'content': {'title': 'Content', 'type': 'string'}}"
      ]
     },
     "execution_count": 16,
     "metadata": {},
     "output_type": "execute_result"
    }
   ],
   "source": [
    "write_email.args"
   ]
  },
  {
   "cell_type": "code",
   "execution_count": 17,
   "id": "abd85ae4-9d4c-4efa-9577-aca96e9f22cd",
   "metadata": {},
   "outputs": [
    {
     "data": {
      "text/html": [
       "<pre style=\"white-space:pre;overflow-x:auto;line-height:normal;font-family:Menlo,'DejaVu Sans Mono',consolas,'Courier New',monospace\">Write and send an email.                                                                                           \n",
       "</pre>\n"
      ],
      "text/plain": [
       "Write and send an email.                                                                                           \n"
      ]
     },
     "execution_count": 17,
     "metadata": {},
     "output_type": "execute_result"
    }
   ],
   "source": [
    "Markdown(write_email.description)"
   ]
  },
  {
   "cell_type": "markdown",
   "id": "c8a6b427",
   "metadata": {},
   "source": [
    "## Llamadas a herramientas\n",
    "\n",
    "Las herramientas pueden ser [llamadas](https://python.langchain.com/docs/concepts/tool_calling/) por LLMs. Cuando una herramienta está vinculada al modelo, el modelo puede elegir llamar la herramienta devolviendo una salida estructurada con argumentos de la herramienta. Usamos el método `bind_tools` para aumentar un LLM con herramientas.\n",
    "\n",
    "![tool-img](img/tool_call_detail.png)\n",
    "\n",
    "Los proveedores a menudo tienen [parámetros como `tool_choice`](https://python.langchain.com/docs/how_to/tool_choice/) para forzar la llamada a herramientas específicas. `any` seleccionará al menos una de las herramientas.\n",
    "\n",
    "Además, podemos [establecer `parallel_tool_calls=False`](https://python.langchain.com/docs/how_to/tool_calling_parallel/) para asegurar que el modelo solo llame una herramienta a la vez.\n",
    "\n",
    "Podemos usar tool_choice para forzar la llamada a herramientas específicas. Por ejemplo, podemos establecer `tool_choice=\"any\"` para seleccionar al menos una de las herramientas."
   ]
  },
  {
   "cell_type": "code",
   "execution_count": 18,
   "id": "fbca9b99",
   "metadata": {},
   "outputs": [],
   "source": [
    "## create a chat model with langchain\n",
    "llm2 = init_chat_model(\"openai:gpt-4o\", temperature=0.6)\n",
    "\n",
    "# hacemos dos funciones como herramientas de langchain para sumar y multiplicar\n",
    "@tool\n",
    "def add(a: int, b: int) -> int:\n",
    "    \"\"\"Suma dos números\"\"\"\n",
    "    return a + b\n",
    "\n",
    "@tool\n",
    "def multiply(a: int, b: int) -> int:\n",
    "    \"\"\"Multiplica dos números\"\"\"\n",
    "    return a * b"
   ]
  },
  {
   "cell_type": "code",
   "execution_count": 19,
   "id": "9a038792",
   "metadata": {},
   "outputs": [],
   "source": [
    "# hacemos un bind de las herramientas a nuestro chat model\n",
    "tools = [add, multiply]\n",
    "llm_with_tools = llm2.bind_tools(tools) # tool_choice=\"multiply\" to enforce calling multiply always"
   ]
  },
  {
   "cell_type": "code",
   "execution_count": 20,
   "id": "e58e5330",
   "metadata": {},
   "outputs": [
    {
     "data": {
      "text/plain": [
       "AIMessage(content='', additional_kwargs={'tool_calls': [{'id': 'call_RtmuZgl1hzSlyehPTUQiL6UZ', 'function': {'arguments': '{\"a\":2,\"b\":3}', 'name': 'add'}, 'type': 'function'}], 'refusal': None}, response_metadata={'token_usage': {'completion_tokens': 17, 'prompt_tokens': 74, 'total_tokens': 91, 'completion_tokens_details': {'accepted_prediction_tokens': 0, 'audio_tokens': 0, 'reasoning_tokens': 0, 'rejected_prediction_tokens': 0}, 'prompt_tokens_details': {'audio_tokens': 0, 'cached_tokens': 0}}, 'model_name': 'gpt-4o-2024-08-06', 'system_fingerprint': 'fp_07871e2ad8', 'id': 'chatcmpl-BpL59h0lOxieIiQAPNBr6J8SBn4kb', 'service_tier': 'default', 'finish_reason': 'tool_calls', 'logprobs': None}, id='run--bed50386-fc63-4452-8ea0-ca2a3ee91da1-0', tool_calls=[{'name': 'add', 'args': {'a': 2, 'b': 3}, 'id': 'call_RtmuZgl1hzSlyehPTUQiL6UZ', 'type': 'tool_call'}], usage_metadata={'input_tokens': 74, 'output_tokens': 17, 'total_tokens': 91, 'input_token_details': {'audio': 0, 'cache_read': 0}, 'output_token_details': {'audio': 0, 'reasoning': 0}})"
      ]
     },
     "execution_count": 20,
     "metadata": {},
     "output_type": "execute_result"
    }
   ],
   "source": [
    "# hacemos una conversación con el chat model\n",
    "llm_with_tools.invoke(\"Suma 2 y 3\")\n"
   ]
  },
  {
   "cell_type": "code",
   "execution_count": 21,
   "id": "c17256f5",
   "metadata": {},
   "outputs": [
    {
     "data": {
      "text/plain": [
       "AIMessage(content='', additional_kwargs={'tool_calls': [{'id': 'call_R6E6dcrTkYiwr0ybwNK1KeWr', 'function': {'arguments': '{\"a\":2,\"b\":3}', 'name': 'multiply'}, 'type': 'function'}], 'refusal': None}, response_metadata={'token_usage': {'completion_tokens': 17, 'prompt_tokens': 74, 'total_tokens': 91, 'completion_tokens_details': {'accepted_prediction_tokens': 0, 'audio_tokens': 0, 'reasoning_tokens': 0, 'rejected_prediction_tokens': 0}, 'prompt_tokens_details': {'audio_tokens': 0, 'cached_tokens': 0}}, 'model_name': 'gpt-4o-2024-08-06', 'system_fingerprint': 'fp_07871e2ad8', 'id': 'chatcmpl-BpL8ijNsQ26qjREnFZeX1Ca4oD3Zp', 'service_tier': 'default', 'finish_reason': 'tool_calls', 'logprobs': None}, id='run--630f4c25-26ae-408d-a050-988e72079bbd-0', tool_calls=[{'name': 'multiply', 'args': {'a': 2, 'b': 3}, 'id': 'call_R6E6dcrTkYiwr0ybwNK1KeWr', 'type': 'tool_call'}], usage_metadata={'input_tokens': 74, 'output_tokens': 17, 'total_tokens': 91, 'input_token_details': {'audio': 0, 'cache_read': 0}, 'output_token_details': {'audio': 0, 'reasoning': 0}})"
      ]
     },
     "execution_count": 21,
     "metadata": {},
     "output_type": "execute_result"
    }
   ],
   "source": [
    "# hacemos una conversación con el chat model y las herramientas\n",
    "llm_with_tools.invoke(\"Multiplica 2 y 3\")"
   ]
  },
  {
   "cell_type": "code",
   "execution_count": 22,
   "id": "bfa57bc4",
   "metadata": {},
   "outputs": [],
   "source": [
    "# Connect tools to a chat model\n",
    "model_with_tools = llm.bind_tools([write_email], tool_choice=\"any\", parallel_tool_calls=False)\n",
    "\n",
    "# The model will now be able to call tools\n",
    "output = model_with_tools.invoke(\"Draft a response to my boss (boss@company.ai) about tomorrow's meeting\")"
   ]
  },
  {
   "cell_type": "code",
   "execution_count": 23,
   "id": "7985eab6-9e6b-4fa5-8027-52d32886b97e",
   "metadata": {},
   "outputs": [
    {
     "data": {
      "text/plain": [
       "langchain_core.messages.ai.AIMessage"
      ]
     },
     "execution_count": 23,
     "metadata": {},
     "output_type": "execute_result"
    }
   ],
   "source": [
    "type(output)"
   ]
  },
  {
   "cell_type": "code",
   "execution_count": 24,
   "id": "ea0ce030-e760-4679-838f-d88d1480664e",
   "metadata": {},
   "outputs": [
    {
     "data": {
      "text/plain": [
       "AIMessage(content='', additional_kwargs={'tool_calls': [{'id': 'call_SWv6R2NOhsOO8ZlH8k8YsbGv', 'function': {'arguments': '{\"to\":\"boss@company.ai\",\"subject\":\"Re: Tomorrow\\'s Meeting\",\"content\":\"Hello,\\\\n\\\\nThank you for the reminder about tomorrow\\'s meeting. I confirm my attendance and will be prepared with the necessary updates and materials.\\\\n\\\\nPlease let me know if there is anything specific you would like me to focus on or bring to the discussion.\\\\n\\\\nBest regards,\\\\n[Your Name]\"}', 'name': 'write_email'}, 'type': 'function'}], 'refusal': None}, response_metadata={'token_usage': {'completion_tokens': 91, 'prompt_tokens': 67, 'total_tokens': 158, 'completion_tokens_details': {'accepted_prediction_tokens': 0, 'audio_tokens': 0, 'reasoning_tokens': 0, 'rejected_prediction_tokens': 0}, 'prompt_tokens_details': {'audio_tokens': 0, 'cached_tokens': 0}}, 'model_name': 'gpt-4.1-2025-04-14', 'system_fingerprint': 'fp_51e1070cf2', 'id': 'chatcmpl-BpLAXdBkGr0QLGUQC50RXMfgWYCyd', 'service_tier': 'default', 'finish_reason': 'tool_calls', 'logprobs': None}, id='run--a0c04c0e-948e-4e31-827b-de120bac78e5-0', tool_calls=[{'name': 'write_email', 'args': {'to': 'boss@company.ai', 'subject': \"Re: Tomorrow's Meeting\", 'content': \"Hello,\\n\\nThank you for the reminder about tomorrow's meeting. I confirm my attendance and will be prepared with the necessary updates and materials.\\n\\nPlease let me know if there is anything specific you would like me to focus on or bring to the discussion.\\n\\nBest regards,\\n[Your Name]\"}, 'id': 'call_SWv6R2NOhsOO8ZlH8k8YsbGv', 'type': 'tool_call'}], usage_metadata={'input_tokens': 67, 'output_tokens': 91, 'total_tokens': 158, 'input_token_details': {'audio': 0, 'cache_read': 0}, 'output_token_details': {'audio': 0, 'reasoning': 0}})"
      ]
     },
     "execution_count": 24,
     "metadata": {},
     "output_type": "execute_result"
    }
   ],
   "source": [
    "output"
   ]
  },
  {
   "cell_type": "code",
   "execution_count": 25,
   "id": "717779cb",
   "metadata": {},
   "outputs": [
    {
     "data": {
      "text/plain": [
       "{'to': 'boss@company.ai',\n",
       " 'subject': \"Re: Tomorrow's Meeting\",\n",
       " 'content': \"Hello,\\n\\nThank you for the reminder about tomorrow's meeting. I confirm my attendance and will be prepared with the necessary updates and materials.\\n\\nPlease let me know if there is anything specific you would like me to focus on or bring to the discussion.\\n\\nBest regards,\\n[Your Name]\"}"
      ]
     },
     "execution_count": 25,
     "metadata": {},
     "output_type": "execute_result"
    }
   ],
   "source": [
    "# Extract tool calls and execute them\n",
    "args = output.tool_calls[0]['args']\n",
    "args"
   ]
  },
  {
   "cell_type": "code",
   "execution_count": 26,
   "id": "09f85694",
   "metadata": {},
   "outputs": [
    {
     "data": {
      "text/html": [
       "<pre style=\"white-space:pre;overflow-x:auto;line-height:normal;font-family:Menlo,'DejaVu Sans Mono',consolas,'Courier New',monospace\">Email sent to boss@company.ai with subject 'Re: Tomorrow's Meeting' and content: Hello,                            \n",
       "\n",
       "Thank you for the reminder about tomorrow's meeting. I confirm my attendance and will be prepared with the         \n",
       "necessary updates and materials.                                                                                   \n",
       "\n",
       "Please let me know if there is anything specific you would like me to focus on or bring to the discussion.         \n",
       "\n",
       "Best regards, [Your Name]                                                                                          \n",
       "</pre>\n"
      ],
      "text/plain": [
       "Email sent to boss@company.ai with subject 'Re: Tomorrow's Meeting' and content: Hello,                            \n",
       "\n",
       "Thank you for the reminder about tomorrow's meeting. I confirm my attendance and will be prepared with the         \n",
       "necessary updates and materials.                                                                                   \n",
       "\n",
       "Please let me know if there is anything specific you would like me to focus on or bring to the discussion.         \n",
       "\n",
       "Best regards, [Your Name]                                                                                          \n"
      ]
     },
     "execution_count": 26,
     "metadata": {},
     "output_type": "execute_result"
    }
   ],
   "source": [
    "# Call the tool\n",
    "result = write_email.invoke(args)\n",
    "Markdown(result)"
   ]
  },
  {
   "cell_type": "markdown",
   "id": "b6f9c52a",
   "metadata": {},
   "source": [
    "![basic_prompt](img/tool_call.png)\n",
    "\n"
   ]
  }
 ],
 "metadata": {
  "jupytext": {
   "cell_metadata_filter": "-all",
   "main_language": "python",
   "notebook_metadata_filter": "-all"
  },
  "kernelspec": {
   "display_name": ".venv",
   "language": "python",
   "name": "python3"
  },
  "language_info": {
   "codemirror_mode": {
    "name": "ipython",
    "version": 3
   },
   "file_extension": ".py",
   "mimetype": "text/x-python",
   "name": "python",
   "nbconvert_exporter": "python",
   "pygments_lexer": "ipython3",
   "version": "3.12.7"
  }
 },
 "nbformat": 4,
 "nbformat_minor": 5
}
